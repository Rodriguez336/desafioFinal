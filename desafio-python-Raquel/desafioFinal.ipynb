{
 "cells": [
  {
   "cell_type": "markdown",
   "metadata": {},
   "source": [
    "1. Análise Exploratória\n",
    "\n",
    "• Valor total vendido e Valor total da meta por ano?\n",
    "\n",
    "• Crie um gráfico de linhas para exibir o comportamento das vendas ao\n",
    "longo do ano de 2021.\n",
    "\n",
    "• Quantos clientes ativos e inativos temos em nossa empresa?\n",
    "\n",
    "• Qual a linha de produtos mais vendida?\n",
    "\n",
    "• Qual foi a quantidade total de produtos vendidos por ano?\n",
    "\n",
    "• Qual foi o total de peso em toneladas dos produtos vendidos em todo o\n",
    "período?\n",
    "\n",
    "• Comparando a performance por gerente, qual dos gerentes teve o maior\n",
    "faturamento? Qual o percentual relativo a esse faturamento?\n",
    "\n",
    "• Qual equipe teve a melhor performance de vendas?"
   ]
  },
  {
   "cell_type": "code",
   "execution_count": 1,
   "metadata": {},
   "outputs": [],
   "source": [
    "import pandas as pd\n",
    "import matplotlib.pyplot as plt\n",
    "import seaborn as sns\n",
    "import os\n",
    "\n",
    "# Caminho da pasta com os documentos\n",
    "caminhoPasta = '../desafio-python-Raquel/arquivo/vendas/'\n",
    "\n",
    "# Criar uma lista vazia para salvar os caminhos\n",
    "diretorios = []\n",
    "\n",
    "# Laço de repetição (para localizar os arquivos do diretorio)\n",
    "for file in os.listdir(caminhoPasta):\n",
    "    if file.endswith('.xlsx'):\n",
    "        diretorios.append(caminhoPasta + file)\n",
    "    \n",
    "# Criar um data frame vazio\n",
    "dados_final = pd.DataFrame()\n",
    "\n",
    "# Abrir os documentos e agrupar em um único Dataframe\n",
    "for path in diretorios:\n",
    "    dados = pd.read_excel(path)\n",
    "    dados_final = pd.concat([dados_final, dados])\n",
    "    \n",
    "dados_final.to_csv('./arquivo/ArquivoCombinado.csv') \n",
    "\n",
    "# Abrindo os outros documentos\n",
    "\n",
    "df_metas = pd.read_excel('./arquivo/base-meta-new.xlsx')\n",
    "df_cliente = pd.read_excel('./arquivo/Dimensões.xlsx',sheet_name='Cliente')\n",
    "df_datas = pd.read_excel('./arquivo/Dimensões.xlsx',sheet_name='Data')\n",
    "df_produtos = pd.read_excel('./arquivo/Dimensões.xlsx',sheet_name='Produto')\n",
    "df_grupoProduto = pd.read_excel('./arquivo/Dimensões.xlsx',sheet_name='GrupoProduto')\n",
    "df_vendedores = pd.read_excel('./arquivo/Dimensões.xlsx',sheet_name='Vendedor')\n",
    "\n",
    "# FATIAMENTO E RESETAR O ÍNDICE\n",
    "\n",
    "df_metas = df_metas.iloc[3:,1:]\n",
    "df_metas.reset_index(0, drop = True, inplace=True)\n",
    "\n",
    "# RENOMEAR AS COLUNAS DO DATAFRAME\n",
    "\n",
    "df_metas.columns = ['cdVendedor','data','meta']"
   ]
  },
  {
   "cell_type": "markdown",
   "metadata": {},
   "source": [
    "Análises Exploratórias"
   ]
  },
  {
   "cell_type": "markdown",
   "metadata": {},
   "source": [
    " Valor total vendido e Valor total da meta por ano?"
   ]
  },
  {
   "cell_type": "code",
   "execution_count": 31,
   "metadata": {},
   "outputs": [],
   "source": [
    "# Adicionar a coluna valor total ao dataframe\n",
    "\n",
    "dados_final['valorTotal'] = dados_final['QtdItens'] * dados_final['ValorUnitario']\n",
    "\n",
    "dados_final[['QtdItens','valorTotal']].sum()\n",
    "\n",
    "dados_result = pd.merge(dados_final, # tabela da esquerda (principal)\n",
    "         df_datas, # tabela de consulta (de para)\n",
    "         left_on='DataEmissao', # coluna da tabela principal (id)\n",
    "         right_on='Data') # coluna da tabela da consulta "
   ]
  }
 ],
 "metadata": {
  "kernelspec": {
   "display_name": "Python 3",
   "language": "python",
   "name": "python3"
  },
  "language_info": {
   "codemirror_mode": {
    "name": "ipython",
    "version": 3
   },
   "file_extension": ".py",
   "mimetype": "text/x-python",
   "name": "python",
   "nbconvert_exporter": "python",
   "pygments_lexer": "ipython3",
   "version": "3.11.0"
  }
 },
 "nbformat": 4,
 "nbformat_minor": 2
}
